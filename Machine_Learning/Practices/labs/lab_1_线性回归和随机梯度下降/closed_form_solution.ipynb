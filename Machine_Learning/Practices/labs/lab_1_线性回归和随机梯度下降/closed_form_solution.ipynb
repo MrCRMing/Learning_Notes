{
 "cells": [
  {
   "cell_type": "code",
   "execution_count": 5,
   "metadata": {},
   "outputs": [],
   "source": [
    "from sklearn.datasets import load_svmlight_file \n",
    "from sklearn.model_selection import train_test_split\n",
    "import numpy as np"
   ]
  },
  {
   "cell_type": "code",
   "execution_count": 6,
   "metadata": {},
   "outputs": [
    {
     "name": "stdout",
     "output_type": "stream",
     "text": [
      "X_train shape (339, 13)\n",
      "X_val shape (167, 13)\n"
     ]
    }
   ],
   "source": [
    "#读取数据并划分训练集合和验证集\n",
    "X,y=load_svmlight_file(\"house_data\")\n",
    "X_train,X_val,y_train,y_val=train_test_split(X,y,test_size=0.33,random_state=42)\n",
    "X_train=X_train.toarray()\n",
    "X_val=X_val.toarray()\n",
    "\n",
    "print(\"X_train shape\",X_train.shape)\n",
    "print(\"X_val shape\",X_val.shape)\n"
   ]
  },
  {
   "cell_type": "code",
   "execution_count": 7,
   "metadata": {},
   "outputs": [
    {
     "name": "stdout",
     "output_type": "stream",
     "text": [
      "(339, 14)\n",
      "(167, 14)\n"
     ]
    }
   ],
   "source": [
    "#在原数据中插入一列1值\n",
    "X_train_one=np.ones(X_train.shape[0])\n",
    "X_val_one=np.ones(X_val.shape[0])\n",
    "X_train=np.insert(X_train,0,values=X_train_one,axis=1)\n",
    "X_val=np.insert(X_val,0,values=X_val_one,axis=1)\n",
    "print(X_train.shape)\n",
    "print(X_val.shape)"
   ]
  },
  {
   "cell_type": "code",
   "execution_count": 8,
   "metadata": {},
   "outputs": [],
   "source": [
    "def predict(W,X):\n",
    "    pre_y=np.dot(X,W)\n",
    "    return pre_y"
   ]
  },
  {
   "cell_type": "code",
   "execution_count": 5,
   "metadata": {},
   "outputs": [],
   "source": [
    "#选取loss函数，这里选用平方误差函数\n",
    "def Loss(W,X,y):\n",
    "    m=X.shape[0]\n",
    "    loss=1/(2*m)*sum(np.power((np.dot(X,W)-y),2))\n",
    "    return loss\n"
   ]
  },
  {
   "cell_type": "code",
   "execution_count": 6,
   "metadata": {},
   "outputs": [],
   "source": [
    "def close_form_solution(X,y):\n",
    "    \"\"\"\n",
    "    用闭式解公式得到W值\n",
    "    \"\"\"\n",
    "    W=((np.linalg.inv((np.dot(X.T,X)))).dot(X.T)).dot(y)\n",
    "    return W"
   ]
  },
  {
   "cell_type": "code",
   "execution_count": 7,
   "metadata": {},
   "outputs": [],
   "source": [
    "def close_form_solution_Ridge(X,y,r):\n",
    "    \"\"\"\n",
    "    用带岭回归的闭式解得到W值，r为惩罚参数\n",
    "    \"\"\"\n",
    "    temp=X.T.dot(X)\n",
    "    I=np.identity(temp.shape[0])#单位矩阵，维度与X.T.dot(X) 相同\n",
    "    W=np.linalg.inv(temp+r*I).dot(X.T).dot(y)\n",
    "    return W"
   ]
  },
  {
   "cell_type": "code",
   "execution_count": 8,
   "metadata": {},
   "outputs": [
    {
     "name": "stdout",
     "output_type": "stream",
     "text": [
      "loss_train 11.492508039755258\n",
      "loss_val 10.362011882772524\n"
     ]
    }
   ],
   "source": [
    "#使用闭式解进行预测\n",
    "W=close_form_solution(X_train,y_train)\n",
    "loss_train=Loss(W,X_train,y_train)\n",
    "loss_val=Loss(W,X_val,y_val)\n",
    "print('loss_train',loss_train)\n",
    "print('loss_val',loss_val)"
   ]
  },
  {
   "cell_type": "code",
   "execution_count": 9,
   "metadata": {},
   "outputs": [
    {
     "name": "stdout",
     "output_type": "stream",
     "text": [
      "loss_train 11.4969883806488\n",
      "loss_val 10.409177903962483\n"
     ]
    }
   ],
   "source": [
    "#使用带岭回归的闭式解进行预测\n",
    "W=close_form_solution_Ridge(X_train,y_train,0.5)\n",
    "loss_train=Loss(W,X_train,y_train)\n",
    "loss_val=Loss(W,X_val,y_val)\n",
    "print('loss_train',loss_train)\n",
    "print('loss_val',loss_val)"
   ]
  },
  {
   "cell_type": "code",
   "execution_count": null,
   "metadata": {},
   "outputs": [],
   "source": []
  }
 ],
 "metadata": {
  "kernelspec": {
   "display_name": "Python [conda env:env1]",
   "language": "python",
   "name": "conda-env-env1-py"
  },
  "language_info": {
   "codemirror_mode": {
    "name": "ipython",
    "version": 3
   },
   "file_extension": ".py",
   "mimetype": "text/x-python",
   "name": "python",
   "nbconvert_exporter": "python",
   "pygments_lexer": "ipython3",
   "version": "3.7.4"
  },
  "toc": {
   "base_numbering": 1,
   "nav_menu": {},
   "number_sections": true,
   "sideBar": true,
   "skip_h1_title": false,
   "title_cell": "Table of Contents",
   "title_sidebar": "Contents",
   "toc_cell": false,
   "toc_position": {},
   "toc_section_display": true,
   "toc_window_display": false
  }
 },
 "nbformat": 4,
 "nbformat_minor": 2
}
