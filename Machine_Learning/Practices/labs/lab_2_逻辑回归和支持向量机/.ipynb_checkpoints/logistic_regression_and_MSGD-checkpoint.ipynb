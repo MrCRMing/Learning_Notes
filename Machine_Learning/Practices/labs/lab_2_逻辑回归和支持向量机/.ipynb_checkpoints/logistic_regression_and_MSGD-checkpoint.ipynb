{
 "cells": [
  {
   "cell_type": "code",
   "execution_count": 20,
   "metadata": {},
   "outputs": [],
   "source": [
    "from sklearn.datasets import load_svmlight_file \n",
    "from sklearn.model_selection import train_test_split\n",
    "import numpy as np\n",
    "import matplotlib.pyplot as plt\n"
   ]
  },
  {
   "cell_type": "code",
   "execution_count": 21,
   "metadata": {},
   "outputs": [
    {
     "name": "stdout",
     "output_type": "stream",
     "text": [
      "X_train shape (32561, 123)\n",
      "X_val shape (16281, 123)\n",
      "y_train shape (32561,)\n",
      "y_val shape (16281,)\n"
     ]
    }
   ],
   "source": [
    "#读取数据并划分训练集合和验证集\n",
    "X_train,y_train=load_svmlight_file(\"a9a_data\")\n",
    "X_val,y_val=load_svmlight_file(\"a9a_test_data\",n_features=123)\n",
    "X_train=X_train.toarray()\n",
    "X_val=X_val.toarray()\n",
    "\n",
    "print(\"X_train shape\",X_train.shape)\n",
    "print(\"X_val shape\",X_val.shape)\n",
    "print(\"y_train shape\",y_train.shape)\n",
    "print(\"y_val shape\",y_val.shape)"
   ]
  },
  {
   "cell_type": "code",
   "execution_count": 22,
   "metadata": {},
   "outputs": [],
   "source": [
    "#将y标签中的-1数据改为0数据\n",
    "for i in range(y_train.shape[0]):\n",
    "    if y_train[i]==-1:\n",
    "        y_train[i]=0\n",
    "for i in range(y_val.shape[0]):\n",
    "    if y_val[i]==-1:\n",
    "        y_val[i]=0"
   ]
  },
  {
   "cell_type": "code",
   "execution_count": 23,
   "metadata": {},
   "outputs": [
    {
     "name": "stdout",
     "output_type": "stream",
     "text": [
      "(32561, 124)\n",
      "(16281, 124)\n"
     ]
    }
   ],
   "source": [
    "#在原数据中插入一列1值\n",
    "X_train_one=np.ones(X_train.shape[0])\n",
    "X_val_one=np.ones(X_val.shape[0])\n",
    "X_train=np.insert(X_train,0,values=X_train_one,axis=1)\n",
    "X_val=np.insert(X_val,0,values=X_val_one,axis=1)\n",
    "print(X_train.shape)\n",
    "print(X_val.shape)"
   ]
  },
  {
   "cell_type": "code",
   "execution_count": 24,
   "metadata": {},
   "outputs": [],
   "source": [
    "def close_form_solution(X,y):\n",
    "    \"\"\"\n",
    "    用闭式解公式得到最优参数W值\n",
    "    \"\"\"\n",
    "    W=((np.linalg.inv((np.dot(X.T,X)))).dot(X.T)).dot(y)\n",
    "    return W"
   ]
  },
  {
   "cell_type": "code",
   "execution_count": 25,
   "metadata": {},
   "outputs": [],
   "source": [
    "def close_form_solution_Ridge(X,y,r):\n",
    "    \"\"\"\n",
    "    用带岭回归的闭式解得到W值，r为惩罚参数\n",
    "    \"\"\"\n",
    "    temp=X.T.dot(X)\n",
    "    I=np.identity(temp.shape[0])#单位矩阵，维度与X.T.dot(X) 相同\n",
    "    W=np.linalg.inv(temp+r*I).dot(X.T).dot(y)\n",
    "    return W"
   ]
  },
  {
   "cell_type": "code",
   "execution_count": 26,
   "metadata": {},
   "outputs": [
    {
     "name": "stdout",
     "output_type": "stream",
     "text": [
      "(124, 1)\n",
      "(124, 1)\n"
     ]
    }
   ],
   "source": [
    "#初始化模型参数\n",
    "W=np.zeros((X_train.shape[1],1))\n",
    "#使用岭回归闭式解获得最优参数W_star\n",
    "W_star=close_form_solution_Ridge(X_train,y_train,0.5)\n",
    "W_star=W_star.reshape((-1,1))\n",
    "print(W.shape)\n",
    "print(W_star.shape)"
   ]
  },
  {
   "cell_type": "code",
   "execution_count": 27,
   "metadata": {},
   "outputs": [],
   "source": [
    "def sigmoid(z):\n",
    "    return 1/(1+np.exp(-z))"
   ]
  },
  {
   "cell_type": "code",
   "execution_count": 28,
   "metadata": {},
   "outputs": [],
   "source": [
    "#定义假设函数hypothetical function\n",
    "def h(W,X):\n",
    "    m=X.shape[0]\n",
    "    z=X.dot(W)\n",
    "    assert(z.shape==(m,1))\n",
    "    return sigmoid(z)"
   ]
  },
  {
   "cell_type": "code",
   "execution_count": 29,
   "metadata": {},
   "outputs": [],
   "source": [
    "#定义loss函数\n",
    "def Loss(W,X,y):\n",
    "    m=X.shape[0]\n",
    "    loss=(-1/m)*sum((y*np.log(h(W,X)))+((1-y)*np.log(1-h(W,X))))\n",
    "\n",
    "        \n",
    "    return loss\n",
    "    "
   ]
  },
  {
   "cell_type": "code",
   "execution_count": 30,
   "metadata": {},
   "outputs": [],
   "source": [
    "#定义计算训练参数W和最优参数W_star的距离函数\n",
    "def distance(W,W_star):\n",
    "    distance=np.sqrt(sum(np.power(np.abs(W-W_star),2)))\n",
    "    return distance"
   ]
  },
  {
   "cell_type": "code",
   "execution_count": 31,
   "metadata": {},
   "outputs": [
    {
     "name": "stdout",
     "output_type": "stream",
     "text": [
      "[0.7205533]\n"
     ]
    }
   ],
   "source": [
    "#测试distance函数\n",
    "d=distance(W,W_star)\n",
    "print(d)"
   ]
  },
  {
   "cell_type": "code",
   "execution_count": 32,
   "metadata": {},
   "outputs": [],
   "source": [
    "#定义预测函数，以0.5为阈值\n",
    "def predict(W,X):\n",
    "    m=X.shape[0]\n",
    "    y=h(W,X)\n",
    "    Y_prediction=np.zeros((m,1))\n",
    "    for i in range(m):\n",
    "        if y[i,0]>0.5:\n",
    "            Y_prediction[i,0]=1\n",
    "        else:\n",
    "            Y_prediction[i,0]=0\n",
    "    return Y_prediction"
   ]
  },
  {
   "cell_type": "code",
   "execution_count": 33,
   "metadata": {},
   "outputs": [],
   "source": [
    "#梯度下降\n",
    "def gradientDescent(W,X_train,y_train,X_val,y_val,alpha,method,epoch=1000,random_seed=None,batch_size=None):\n",
    "    \"\"\"\n",
    "    计算导数,并更新W,同时计算训练损失和验证损失\n",
    "    \"\"\"\n",
    "    train_loss=np.zeros(epoch)\n",
    "    val_loss=np.zeros(epoch)\n",
    "    w_distance=np.zeros(epoch)\n",
    "    m=X_train.shape[0]\n",
    "    y_train=y_train.reshape((y_train.shape[0],1))\n",
    "    y_val=y_val.reshape((y_val.shape[0],1))\n",
    "    if method==\"BGD\": #批量梯度下降\n",
    "        for i in range(epoch):\n",
    "            train_loss[i]=Loss(W,X_train,y_train)\n",
    "            val_loss[i]=Loss(W,X_val,y_val)\n",
    "            w_distance[i]=distance(W,W_star)\n",
    "            W=W-(alpha/m)*(X_train.T.dot((h(W,X_train)-y_train)))\n",
    "        return W,train_loss,val_loss,w_distance\n",
    "    elif method==\"SGD\":#随机梯度下降   \n",
    "        np.random.seed(random_seed)\n",
    "        rand_arr=np.arange(X_train.shape[0])\n",
    "        for i in range(epoch):\n",
    "            train_loss[i]=Loss(W,X_train,y_train)\n",
    "            val_loss[i]=Loss(W,X_val,y_val)\n",
    "            w_distance[i]=distance(W,W_star)\n",
    "            np.random.shuffle(rand_arr)\n",
    "            index=rand_arr[0:1]\n",
    "            X_train_one=X_train[index]\n",
    "            y_train_one=y_train[index]           \n",
    "            W=W-alpha*((h(W,X_train_one)-y_train_one)*X_train_one.T)\n",
    "        return W,train_loss,val_loss,w_distance\n",
    "    else: #method==\"MBGD\" 小批量随机梯度下降\n",
    "        np.random.seed(random_seed)\n",
    "        rand_arr=np.arange(X_train.shape[0])\n",
    "        for i in range(epoch):\n",
    "            train_loss[i]=Loss(W,X_train,y_train)\n",
    "            val_loss[i]=Loss(W,X_val,y_val)\n",
    "            w_distance[i]=distance(W,W_star)\n",
    "            np.random.shuffle(rand_arr)\n",
    "            batch_size=int(batch_size)\n",
    "            index=rand_arr[0:batch_size]\n",
    "            X_train_batch=X_train[index]\n",
    "            y_train_batch=y_train[index]\n",
    "            W=W-(alpha/m)*(X_train_batch.T.dot((h(W,X_train_batch)-y_train_batch)))\n",
    "        return W,train_loss,val_loss,w_distance"
   ]
  },
  {
   "cell_type": "code",
   "execution_count": 34,
   "metadata": {},
   "outputs": [],
   "source": [
    "#使用随机批量梯度下降\n",
    "epoch=5000\n",
    "alpha=1\n",
    "new_W,train_loss,val_loss,w_distance=gradientDescent(W,X_train,y_train,X_val,y_val,alpha,method=\"MBGD\",epoch=epoch,random_seed=2019,batch_size=200)\n"
   ]
  },
  {
   "cell_type": "code",
   "execution_count": 35,
   "metadata": {},
   "outputs": [
    {
     "data": {
      "image/png": "[encoded data removed]",
      "text/plain": [
       "<Figure size 864x576 with 1 Axes>"
      ]
     },
     "metadata": {
      "needs_background": "light"
     },
     "output_type": "display_data"
    }
   ],
   "source": [
    "#画出学习曲线\n",
    "fig, ax = plt.subplots(figsize=(12, 8))\n",
    "ax.plot(np.arange(epoch), train_loss, 'r',label='train')\n",
    "ax.plot(np.arange(epoch), val_loss, color='green', label='val')\n",
    "plt.legend() \n",
    "ax.set_xlabel('Interations')\n",
    "ax.set_ylabel('Loss')\n",
    "ax.set_title('Error vs. Training Epoch in MBGD')\n",
    "plt.show()"
   ]
  },
  {
   "cell_type": "code",
   "execution_count": 36,
   "metadata": {},
   "outputs": [
    {
     "data": {
      "image/png": "[encoded data removed]",
      "text/plain": [
       "<Figure size 864x576 with 1 Axes>"
      ]
     },
     "metadata": {
      "needs_background": "light"
     },
     "output_type": "display_data"
    }
   ],
   "source": [
    "#画出训练参数W与最优参数W_star之间的距离随训练次数的变化\n",
    "fig, ax = plt.subplots(figsize=(12, 8))\n",
    "ax.plot(np.arange(epoch), w_distance, 'g',label='distance')\n",
    "\n",
    "plt.legend() \n",
    "ax.set_xlabel('Interations')\n",
    "ax.set_ylabel('Distance')\n",
    "ax.set_title('Distance between W and W_star in MBGD')\n",
    "plt.show()"
   ]
  },
  {
   "cell_type": "code",
   "execution_count": 37,
   "metadata": {},
   "outputs": [
    {
     "name": "stdout",
     "output_type": "stream",
     "text": [
      "正确率： 0.838523432221608\n"
     ]
    }
   ],
   "source": [
    "#计算在验证集的准确率\n",
    "Y_prediction=predict(new_W,X_val)\n",
    "correct = [1 if a==b else 0 for (a, b) in zip(Y_prediction, y_val)]\n",
    "accuracy = sum(correct) / len(correct)\n",
    "print(\"正确率：\",accuracy)"
   ]
  },
  {
   "cell_type": "code",
   "execution_count": 38,
   "metadata": {},
   "outputs": [
    {
     "ename": "ValueError",
     "evalue": "too many values to unpack (expected 3)",
     "output_type": "error",
     "traceback": [
      "\u001b[1;31m---------------------------------------------------------------------------\u001b[0m",
      "\u001b[1;31mValueError\u001b[0m                                Traceback (most recent call last)",
      "\u001b[1;32m<ipython-input-38-766b01abfa68>\u001b[0m in \u001b[0;36m<module>\u001b[1;34m\u001b[0m\n\u001b[0;32m      2\u001b[0m \u001b[0mepoch\u001b[0m\u001b[1;33m=\u001b[0m\u001b[1;36m5000\u001b[0m\u001b[1;33m\u001b[0m\u001b[1;33m\u001b[0m\u001b[0m\n\u001b[0;32m      3\u001b[0m \u001b[0malpha\u001b[0m\u001b[1;33m=\u001b[0m\u001b[1;36m1\u001b[0m\u001b[1;33m\u001b[0m\u001b[1;33m\u001b[0m\u001b[0m\n\u001b[1;32m----> 4\u001b[1;33m \u001b[0mnew_W\u001b[0m\u001b[1;33m,\u001b[0m\u001b[0mtrain_loss\u001b[0m\u001b[1;33m,\u001b[0m\u001b[0mval_loss\u001b[0m\u001b[1;33m=\u001b[0m\u001b[0mgradientDescent\u001b[0m\u001b[1;33m(\u001b[0m\u001b[0mW\u001b[0m\u001b[1;33m,\u001b[0m\u001b[0mX_train\u001b[0m\u001b[1;33m,\u001b[0m\u001b[0my_train\u001b[0m\u001b[1;33m,\u001b[0m\u001b[0mX_val\u001b[0m\u001b[1;33m,\u001b[0m\u001b[0my_val\u001b[0m\u001b[1;33m,\u001b[0m\u001b[0malpha\u001b[0m\u001b[1;33m,\u001b[0m\u001b[0mmethod\u001b[0m\u001b[1;33m=\u001b[0m\u001b[1;34m\"BGD\"\u001b[0m\u001b[1;33m,\u001b[0m\u001b[0mepoch\u001b[0m\u001b[1;33m=\u001b[0m\u001b[0mepoch\u001b[0m\u001b[1;33m,\u001b[0m\u001b[0mrandom_seed\u001b[0m\u001b[1;33m=\u001b[0m\u001b[1;36m2019\u001b[0m\u001b[1;33m,\u001b[0m\u001b[0mbatch_size\u001b[0m\u001b[1;33m=\u001b[0m\u001b[1;36m200\u001b[0m\u001b[1;33m)\u001b[0m\u001b[1;33m\u001b[0m\u001b[1;33m\u001b[0m\u001b[0m\n\u001b[0m",
      "\u001b[1;31mValueError\u001b[0m: too many values to unpack (expected 3)"
     ]
    }
   ],
   "source": [
    "#使用批量梯度下降\n",
    "epoch=5000\n",
    "alpha=1\n",
    "new_W,train_loss,val_loss=gradientDescent(W,X_train,y_train,X_val,y_val,alpha,method=\"BGD\",epoch=epoch,random_seed=2019,batch_size=200)"
   ]
  },
  {
   "cell_type": "code",
   "execution_count": null,
   "metadata": {},
   "outputs": [],
   "source": [
    "#画出学习曲线\n",
    "fig, ax = plt.subplots(figsize=(12, 8))\n",
    "ax.plot(np.arange(epoch), train_loss, 'r',label='train')\n",
    "ax.plot(np.arange(epoch), val_loss, color='green', label='val')\n",
    "plt.legend() \n",
    "ax.set_xlabel('Interations')\n",
    "ax.set_ylabel('Loss')\n",
    "ax.set_title('Error vs. Training Epoch in BGD')\n",
    "plt.show()"
   ]
  },
  {
   "cell_type": "code",
   "execution_count": null,
   "metadata": {},
   "outputs": [],
   "source": [
    "#画出训练参数W与最优参数W_star之间的距离随训练次数的变化\n",
    "fig, ax = plt.subplots(figsize=(12, 8))\n",
    "ax.plot(np.arange(epoch), w_distance, 'g',label='distance')\n",
    "\n",
    "plt.legend() \n",
    "ax.set_xlabel('Interations')\n",
    "ax.set_ylabel('Distance')\n",
    "ax.set_title('Distance between W and W_star in BGD')\n",
    "plt.show()"
   ]
  },
  {
   "cell_type": "code",
   "execution_count": null,
   "metadata": {},
   "outputs": [],
   "source": [
    "#计算在验证集的准确率\n",
    "Y_prediction=predict(new_W,X_val)\n",
    "correct = [1 if a==b else 0 for (a, b) in zip(Y_prediction, y_val)]\n",
    "accuracy = sum(correct) / len(correct)\n",
    "print(\"正确率：\",accuracy)"
   ]
  },
  {
   "cell_type": "code",
   "execution_count": null,
   "metadata": {},
   "outputs": [],
   "source": [
    "#使用随机批量梯度下降\n",
    "epoch=5000\n",
    "alpha=0.01\n",
    "new_W,train_loss,val_loss=gradientDescent(W,X_train,y_train,X_val,y_val,alpha,method=\"SGD\",epoch=epoch,random_seed=2019,batch_size=200)"
   ]
  },
  {
   "cell_type": "code",
   "execution_count": null,
   "metadata": {},
   "outputs": [],
   "source": [
    "#画出学习曲线\n",
    "fig, ax = plt.subplots(figsize=(12, 8))\n",
    "ax.plot(np.arange(epoch), train_loss, 'r',label='train')\n",
    "ax.plot(np.arange(epoch), val_loss, color='green', label='val')\n",
    "plt.legend() \n",
    "ax.set_xlabel('Interations')\n",
    "ax.set_ylabel('Loss')\n",
    "ax.set_title('Error vs. Training Epoch in SGD')\n",
    "plt.show()"
   ]
  },
  {
   "cell_type": "code",
   "execution_count": null,
   "metadata": {},
   "outputs": [],
   "source": [
    "#画出训练参数W与最优参数W_star之间的距离随训练次数的变化\n",
    "fig, ax = plt.subplots(figsize=(12, 8))\n",
    "ax.plot(np.arange(epoch), w_distance, 'g',label='distance')\n",
    "\n",
    "plt.legend() \n",
    "ax.set_xlabel('Interations')\n",
    "ax.set_ylabel('Distance')\n",
    "ax.set_title('Distance between W and W_star in SGD')\n",
    "plt.show()"
   ]
  },
  {
   "cell_type": "code",
   "execution_count": null,
   "metadata": {},
   "outputs": [],
   "source": [
    "#计算在验证集的准确率\n",
    "Y_prediction=predict(new_W,X_val)\n",
    "correct = [1 if a==b else 0 for (a, b) in zip(Y_prediction, y_val)]\n",
    "accuracy = sum(correct) / len(correct)\n",
    "print(\"正确率：\",accuracy)"
   ]
  },
  {
   "cell_type": "code",
   "execution_count": null,
   "metadata": {},
   "outputs": [],
   "source": []
  }
 ],
 "metadata": {
  "kernelspec": {
   "display_name": "Python [conda env:env1]",
   "language": "python",
   "name": "conda-env-env1-py"
  },
  "language_info": {
   "codemirror_mode": {
    "name": "ipython",
    "version": 3
   },
   "file_extension": ".py",
   "mimetype": "text/x-python",
   "name": "python",
   "nbconvert_exporter": "python",
   "pygments_lexer": "ipython3",
   "version": "3.7.4"
  },
  "toc": {
   "base_numbering": 1,
   "nav_menu": {},
   "number_sections": true,
   "sideBar": true,
   "skip_h1_title": false,
   "title_cell": "Table of Contents",
   "title_sidebar": "Contents",
   "toc_cell": false,
   "toc_position": {},
   "toc_section_display": true,
   "toc_window_display": false
  }
 },
 "nbformat": 4,
 "nbformat_minor": 2
}
